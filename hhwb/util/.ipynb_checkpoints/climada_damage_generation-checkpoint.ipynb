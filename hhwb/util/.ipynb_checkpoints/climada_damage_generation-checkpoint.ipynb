{
 "cells": [
  {
   "cell_type": "code",
   "execution_count": 1,
   "metadata": {},
   "outputs": [
    {
     "name": "stderr",
     "output_type": "stream",
     "text": [
      "/home/insauer/anaconda3/envs/climada_env/lib/python3.7/site-packages/pandas_datareader/compat/__init__.py:7: FutureWarning: pandas.util.testing is deprecated. Use the functions in the public API at pandas.testing instead.\n",
      "  from pandas.util.testing import assert_frame_equal\n"
     ]
    }
   ],
   "source": [
    "import sys\n",
    "sys.path.append('/home/insauer/Climada/climada_python')\n",
    "import numpy as np\n",
    "import matplotlib.pyplot as plt\n",
    "import geopandas as gpd\n",
    "import pandas as pd\n",
    "from climada.hazard.river_flood import RiverFlood\n",
    "from climada.hazard.centroids import Centroids\n",
    "from shapely.geometry.multipolygon import MultiPolygon\n",
    "from climada.entity.exposures.base import Exposures\n",
    "from climada.entity.impact_funcs.river_flood import flood_imp_func_set\n",
    "from climada.engine import Impact\n"
   ]
  },
  {
   "cell_type": "code",
   "execution_count": 2,
   "metadata": {},
   "outputs": [],
   "source": [
    "PHL_0_FRC = '/home/insauer/mnt/ebm/data/hazard/floods/isimip2a/princeton/matsiro/area-150arcsec-nolookup/fldfrc_annual_max_gev_0.1mmpd_protection-0.nc'\n",
    "PHL_0_DPH  = '/home/insauer/mnt/ebm/data/hazard/floods/isimip2a/princeton/matsiro/depth-150arcsec-nolookup/flddph_annual_max_gev_0.1mmpd_protection-0.nc'\n",
    "gdp_path = '/home/insauer/mnt/ebm/inga/climada_exposures/asset/'"
   ]
  },
  {
   "cell_type": "code",
   "execution_count": 3,
   "metadata": {},
   "outputs": [
    {
     "data": {
      "text/html": [
       "<div>\n",
       "<style scoped>\n",
       "    .dataframe tbody tr th:only-of-type {\n",
       "        vertical-align: middle;\n",
       "    }\n",
       "\n",
       "    .dataframe tbody tr th {\n",
       "        vertical-align: top;\n",
       "    }\n",
       "\n",
       "    .dataframe thead th {\n",
       "        text-align: right;\n",
       "    }\n",
       "</style>\n",
       "<table border=\"1\" class=\"dataframe\">\n",
       "  <thead>\n",
       "    <tr style=\"text-align: right;\">\n",
       "      <th></th>\n",
       "      <th>Year</th>\n",
       "      <th>natcat_flood_damages_2005_CPI</th>\n",
       "    </tr>\n",
       "  </thead>\n",
       "  <tbody>\n",
       "    <tr>\n",
       "      <th>101764</th>\n",
       "      <td>1980</td>\n",
       "      <td>1.189782e+05</td>\n",
       "    </tr>\n",
       "    <tr>\n",
       "      <th>112252</th>\n",
       "      <td>1981</td>\n",
       "      <td>4.240973e+07</td>\n",
       "    </tr>\n",
       "    <tr>\n",
       "      <th>122740</th>\n",
       "      <td>1982</td>\n",
       "      <td>2.355117e+06</td>\n",
       "    </tr>\n",
       "    <tr>\n",
       "      <th>133228</th>\n",
       "      <td>1983</td>\n",
       "      <td>0.000000e+00</td>\n",
       "    </tr>\n",
       "    <tr>\n",
       "      <th>143716</th>\n",
       "      <td>1984</td>\n",
       "      <td>0.000000e+00</td>\n",
       "    </tr>\n",
       "    <tr>\n",
       "      <th>154204</th>\n",
       "      <td>1985</td>\n",
       "      <td>2.406308e+07</td>\n",
       "    </tr>\n",
       "    <tr>\n",
       "      <th>164692</th>\n",
       "      <td>1986</td>\n",
       "      <td>0.000000e+00</td>\n",
       "    </tr>\n",
       "    <tr>\n",
       "      <th>175180</th>\n",
       "      <td>1987</td>\n",
       "      <td>0.000000e+00</td>\n",
       "    </tr>\n",
       "    <tr>\n",
       "      <th>185668</th>\n",
       "      <td>1988</td>\n",
       "      <td>4.730169e+07</td>\n",
       "    </tr>\n",
       "    <tr>\n",
       "      <th>196156</th>\n",
       "      <td>1989</td>\n",
       "      <td>1.527146e+06</td>\n",
       "    </tr>\n",
       "    <tr>\n",
       "      <th>206644</th>\n",
       "      <td>1990</td>\n",
       "      <td>1.726883e+06</td>\n",
       "    </tr>\n",
       "    <tr>\n",
       "      <th>217132</th>\n",
       "      <td>1991</td>\n",
       "      <td>0.000000e+00</td>\n",
       "    </tr>\n",
       "    <tr>\n",
       "      <th>227620</th>\n",
       "      <td>1992</td>\n",
       "      <td>1.173188e+07</td>\n",
       "    </tr>\n",
       "    <tr>\n",
       "      <th>238108</th>\n",
       "      <td>1993</td>\n",
       "      <td>0.000000e+00</td>\n",
       "    </tr>\n",
       "    <tr>\n",
       "      <th>248596</th>\n",
       "      <td>1994</td>\n",
       "      <td>2.296968e+06</td>\n",
       "    </tr>\n",
       "    <tr>\n",
       "      <th>259084</th>\n",
       "      <td>1995</td>\n",
       "      <td>4.539283e+07</td>\n",
       "    </tr>\n",
       "    <tr>\n",
       "      <th>269572</th>\n",
       "      <td>1996</td>\n",
       "      <td>1.634165e+05</td>\n",
       "    </tr>\n",
       "    <tr>\n",
       "      <th>280060</th>\n",
       "      <td>1997</td>\n",
       "      <td>3.321486e+07</td>\n",
       "    </tr>\n",
       "    <tr>\n",
       "      <th>290548</th>\n",
       "      <td>1998</td>\n",
       "      <td>0.000000e+00</td>\n",
       "    </tr>\n",
       "    <tr>\n",
       "      <th>301036</th>\n",
       "      <td>1999</td>\n",
       "      <td>6.011057e+07</td>\n",
       "    </tr>\n",
       "    <tr>\n",
       "      <th>311524</th>\n",
       "      <td>2000</td>\n",
       "      <td>5.937027e+06</td>\n",
       "    </tr>\n",
       "    <tr>\n",
       "      <th>322012</th>\n",
       "      <td>2001</td>\n",
       "      <td>1.892448e+07</td>\n",
       "    </tr>\n",
       "    <tr>\n",
       "      <th>330739</th>\n",
       "      <td>2002</td>\n",
       "      <td>2.440411e+06</td>\n",
       "    </tr>\n",
       "    <tr>\n",
       "      <th>338719</th>\n",
       "      <td>2003</td>\n",
       "      <td>1.185431e+07</td>\n",
       "    </tr>\n",
       "    <tr>\n",
       "      <th>346699</th>\n",
       "      <td>2004</td>\n",
       "      <td>2.219240e+07</td>\n",
       "    </tr>\n",
       "    <tr>\n",
       "      <th>354679</th>\n",
       "      <td>2005</td>\n",
       "      <td>1.600000e+05</td>\n",
       "    </tr>\n",
       "    <tr>\n",
       "      <th>362659</th>\n",
       "      <td>2006</td>\n",
       "      <td>4.754645e+06</td>\n",
       "    </tr>\n",
       "    <tr>\n",
       "      <th>370639</th>\n",
       "      <td>2007</td>\n",
       "      <td>3.656601e+04</td>\n",
       "    </tr>\n",
       "    <tr>\n",
       "      <th>378619</th>\n",
       "      <td>2008</td>\n",
       "      <td>4.259114e+07</td>\n",
       "    </tr>\n",
       "    <tr>\n",
       "      <th>386599</th>\n",
       "      <td>2009</td>\n",
       "      <td>2.444207e+07</td>\n",
       "    </tr>\n",
       "    <tr>\n",
       "      <th>394579</th>\n",
       "      <td>2010</td>\n",
       "      <td>3.713501e+07</td>\n",
       "    </tr>\n",
       "  </tbody>\n",
       "</table>\n",
       "</div>"
      ],
      "text/plain": [
       "        Year  natcat_flood_damages_2005_CPI\n",
       "101764  1980                   1.189782e+05\n",
       "112252  1981                   4.240973e+07\n",
       "122740  1982                   2.355117e+06\n",
       "133228  1983                   0.000000e+00\n",
       "143716  1984                   0.000000e+00\n",
       "154204  1985                   2.406308e+07\n",
       "164692  1986                   0.000000e+00\n",
       "175180  1987                   0.000000e+00\n",
       "185668  1988                   4.730169e+07\n",
       "196156  1989                   1.527146e+06\n",
       "206644  1990                   1.726883e+06\n",
       "217132  1991                   0.000000e+00\n",
       "227620  1992                   1.173188e+07\n",
       "238108  1993                   0.000000e+00\n",
       "248596  1994                   2.296968e+06\n",
       "259084  1995                   4.539283e+07\n",
       "269572  1996                   1.634165e+05\n",
       "280060  1997                   3.321486e+07\n",
       "290548  1998                   0.000000e+00\n",
       "301036  1999                   6.011057e+07\n",
       "311524  2000                   5.937027e+06\n",
       "322012  2001                   1.892448e+07\n",
       "330739  2002                   2.440411e+06\n",
       "338719  2003                   1.185431e+07\n",
       "346699  2004                   2.219240e+07\n",
       "354679  2005                   1.600000e+05\n",
       "362659  2006                   4.754645e+06\n",
       "370639  2007                   3.656601e+04\n",
       "378619  2008                   4.259114e+07\n",
       "386599  2009                   2.444207e+07\n",
       "394579  2010                   3.713501e+07"
      ]
     },
     "execution_count": 3,
     "metadata": {},
     "output_type": "execute_result"
    }
   ],
   "source": [
    "import pandas as pd\n",
    "import numpy as np\n",
    "\n",
    "data = pd.read_csv('/home/insauer/projects/NC_Submission/Data/check_data/assembled_data_regions.csv')\n",
    "\n",
    "data_phl = data.loc[(data['Country']=='PHL') & (data['Year']>1979) & (data['clim_forc']!='watch')]\n",
    "\n",
    "natcat = data_phl.loc[((data_phl['clim_forc']=='wfdei') & (data_phl['GHM']=='dbh')),\n",
    "                      ['Year','natcat_flood_damages_2005_CPI']]\n",
    "natcat"
   ]
  },
  {
   "cell_type": "code",
   "execution_count": null,
   "metadata": {},
   "outputs": [],
   "source": [
    "shape_path = '/home/insauer/projects/WB_model/hhwb/data/shapes/phl_adm_psa_namria_20200529_shp/phl_admbnda_adm1_psa_namria_20200529.shp'\n",
    "prvS = gpd.GeoDataFrame()\n",
    "prvS = gpd.read_file(shape_path)"
   ]
  },
  {
   "cell_type": "code",
   "execution_count": 4,
   "metadata": {},
   "outputs": [
    {
     "data": {
      "text/plain": [
       "<BarContainer object of 31 artists>"
      ]
     },
     "execution_count": 4,
     "metadata": {},
     "output_type": "execute_result"
    },
    {
     "data": {
      "image/png": "[encoded data removed]",
      "text/plain": [
       "<Figure size 432x288 with 1 Axes>"
      ]
     },
     "metadata": {
      "needs_background": "light"
     },
     "output_type": "display_data"
    }
   ],
   "source": [
    "import matplotlib.pyplot as plt\n",
    "\n",
    "plt.bar(natcat['Year'], natcat['natcat_flood_damages_2005_CPI'])"
   ]
  },
  {
   "cell_type": "code",
   "execution_count": 26,
   "metadata": {},
   "outputs": [
    {
     "data": {
      "text/plain": [
       "['1980',\n",
       " '1981',\n",
       " '1982',\n",
       " '1983',\n",
       " '1984',\n",
       " '1985',\n",
       " '1986',\n",
       " '1987',\n",
       " '1988',\n",
       " '1989',\n",
       " '1990',\n",
       " '1991',\n",
       " '1992',\n",
       " '1993',\n",
       " '1994',\n",
       " '1995',\n",
       " '1996',\n",
       " '1997',\n",
       " '1998',\n",
       " '1999',\n",
       " '2000',\n",
       " '2001',\n",
       " '2002',\n",
       " '2003',\n",
       " '2004',\n",
       " '2005',\n",
       " '2006',\n",
       " '2007',\n",
       " '2008',\n",
       " '2009',\n",
       " '2010']"
      ]
     },
     "execution_count": 26,
     "metadata": {},
     "output_type": "execute_result"
    }
   ],
   "source": [
    "# calculate country level damage\n",
    "rf_cnt = RiverFlood()\n",
    "#bas_shape=MultiPolygon([shape])\n",
    "rf_cnt.set_from_nc(countries=['PHL'], years=years, dph_path=PHL_0_DPH, frc_path=PHL_0_FRC, ISINatIDGrid=True)\n",
    "rf_cnt.event_name"
   ]
  },
  {
   "cell_type": "code",
   "execution_count": 5,
   "metadata": {},
   "outputs": [],
   "source": [
    "# set JRC impact functions\n",
    "if_set = flood_imp_func_set()"
   ]
  },
  {
   "cell_type": "code",
   "execution_count": 25,
   "metadata": {},
   "outputs": [],
   "source": [
    "years = np.arange(1980,2011)\n",
    "imp_cnt = np.zeros((31))\n",
    "for n,year in enumerate(years):\n",
    "    ini_date = str(year) + '-01-01'\n",
    "    fin_date = str(year) + '-12-31'\n",
    "    gdpa = Exposures()\n",
    "    gdpa.read_hdf5(gdp_path + 'asset_PHL_{}.h5'.format(str(year)))\n",
    "    gdpa['if_RF'] = 7\n",
    "    \n",
    "    imp = Impact()\n",
    "    imp.calc(gdpa, if_set, rf_cnt.select(date=(ini_date, fin_date)))\n",
    "    imp_cnt[n] = imp.at_event"
   ]
  },
  {
   "cell_type": "code",
   "execution_count": 110,
   "metadata": {},
   "outputs": [
    {
     "data": {
      "text/plain": [
       "['1980',\n",
       " '1981',\n",
       " '1982',\n",
       " '1983',\n",
       " '1984',\n",
       " '1985',\n",
       " '1986',\n",
       " '1987',\n",
       " '1988',\n",
       " '1989',\n",
       " '1990',\n",
       " '1991',\n",
       " '1992',\n",
       " '1993',\n",
       " '1994',\n",
       " '1995',\n",
       " '1996',\n",
       " '1997',\n",
       " '1998',\n",
       " '1999',\n",
       " '2000',\n",
       " '2001',\n",
       " '2002',\n",
       " '2003',\n",
       " '2004',\n",
       " '2005',\n",
       " '2006',\n",
       " '2007',\n",
       " '2008',\n",
       " '2009',\n",
       " '2010']"
      ]
     },
     "execution_count": 110,
     "metadata": {},
     "output_type": "execute_result"
    }
   ],
   "source": [
    "import scipy as sp\n",
    "# calculate country level damage\n",
    "rf_new = RiverFlood()\n",
    "#bas_shape=MultiPolygon([shape])\n",
    "rf_new.set_from_nc(countries=['PHL'], years=years, dph_path=PHL_0_DPH, frc_path=PHL_0_FRC, ISINatIDGrid=True)\n",
    "rf_new.event_name"
   ]
  },
  {
   "cell_type": "code",
   "execution_count": 111,
   "metadata": {},
   "outputs": [
    {
     "name": "stdout",
     "output_type": "stream",
     "text": [
      "584.407254108577\n",
      "662.8453070180258\n",
      "666.8743225533981\n",
      "671.3575985899661\n",
      "716.900044488837\n"
     ]
    }
   ],
   "source": [
    "cut_years = [13,18]\n",
    "\n",
    "mask_frac = np.array(rf_new.fraction.todense()[11,:])[0]\n",
    "print(mask_frac.sum())\n",
    "for cut_year in cut_years:\n",
    "    mask_frac =np.maximum(mask_frac, np.array(rf_new.fraction.todense()[cut_year,:])[0])\n",
    "    print(mask_frac.sum())"
   ]
  },
  {
   "cell_type": "code",
   "execution_count": 112,
   "metadata": {},
   "outputs": [],
   "source": [
    "masked_fraction = np.array(np.subtract(rf_new.fraction.todense(), mask_frac))\n",
    "masked_fraction = masked_fraction.clip(0)"
   ]
  },
  {
   "cell_type": "code",
   "execution_count": 113,
   "metadata": {},
   "outputs": [],
   "source": [
    "imp_adj = np.zeros((31))\n",
    "rf_new.fraction = sp.sparse.csr_matrix(masked_fraction)\n",
    "for n,year in enumerate(years):\n",
    "    ini_date = str(year) + '-01-01'\n",
    "    fin_date = str(year) + '-12-31'\n",
    "    gdpa = Exposures()\n",
    "    gdpa.read_hdf5(gdp_path + 'asset_PHL_{}.h5'.format(str(year)))\n",
    "    gdpa['if_rf']= 7\n",
    "    imp = Impact()\n",
    "    imp.calc(gdpa, if_set, rf_new.select(date=(ini_date, fin_date)))\n",
    "    imp_adj[n] = imp.at_event"
   ]
  },
  {
   "cell_type": "code",
   "execution_count": 114,
   "metadata": {},
   "outputs": [
    {
     "data": {
      "text/plain": [
       "<BarContainer object of 31 artists>"
      ]
     },
     "execution_count": 114,
     "metadata": {},
     "output_type": "execute_result"
    },
    {
     "data": {
      "image/png": "[encoded data removed]",
      "text/plain": [
       "<Figure size 432x288 with 1 Axes>"
      ]
     },
     "metadata": {
      "needs_background": "light"
     },
     "output_type": "display_data"
    }
   ],
   "source": [
    "plt.bar(years, imp_adj)\n",
    "plt.bar(natcat['Year'], natcat['natcat_flood_damages_2005_CPI'])"
   ]
  },
  {
   "cell_type": "code",
   "execution_count": 115,
   "metadata": {},
   "outputs": [
    {
     "data": {
      "text/plain": [
       "101764    0.000861\n",
       "112252    0.723143\n",
       "122740    0.041154\n",
       "133228    0.000000\n",
       "143716    0.000000\n",
       "154204    0.044090\n",
       "164692         NaN\n",
       "175180         NaN\n",
       "185668    0.048922\n",
       "196156    0.001903\n",
       "206644    0.002356\n",
       "217132         NaN\n",
       "227620    0.030002\n",
       "238108         NaN\n",
       "248596    0.024664\n",
       "259084    0.038205\n",
       "269572    0.000411\n",
       "280060    0.835339\n",
       "290548         NaN\n",
       "301036    0.021170\n",
       "311524    0.001319\n",
       "322012    0.006578\n",
       "330739    0.001696\n",
       "338719    0.007063\n",
       "346699    0.014150\n",
       "354679    0.000063\n",
       "362659    0.004740\n",
       "370639    0.000016\n",
       "378619    0.010292\n",
       "386599    0.006606\n",
       "394579    0.015021\n",
       "Name: natcat_flood_damages_2005_CPI, dtype: float64"
      ]
     },
     "execution_count": 115,
     "metadata": {},
     "output_type": "execute_result"
    }
   ],
   "source": [
    "vulnerability = natcat['natcat_flood_damages_2005_CPI']/imp_adj\n",
    "vulnerability"
   ]
  },
  {
   "cell_type": "code",
   "execution_count": 116,
   "metadata": {},
   "outputs": [
    {
     "data": {
      "text/plain": [
       "<matplotlib.collections.PathCollection at 0x7faba05b1c10>"
      ]
     },
     "execution_count": 116,
     "metadata": {},
     "output_type": "execute_result"
    },
    {
     "data": {
      "image/png": "[encoded data removed]",
      "text/plain": [
       "<Figure size 432x288 with 1 Axes>"
      ]
     },
     "metadata": {
      "needs_background": "light"
     },
     "output_type": "display_data"
    }
   ],
   "source": [
    "plt.scatter(years, vulnerability)"
   ]
  }
 ],
 "metadata": {
  "kernelspec": {
   "display_name": "Python 3",
   "language": "python",
   "name": "python3"
  },
  "language_info": {
   "codemirror_mode": {
    "name": "ipython",
    "version": 3
   },
   "file_extension": ".py",
   "mimetype": "text/x-python",
   "name": "python",
   "nbconvert_exporter": "python",
   "pygments_lexer": "ipython3",
   "version": "3.7.7"
  }
 },
 "nbformat": 4,
 "nbformat_minor": 4
}
