{
 "cells": [
  {
   "cell_type": "markdown",
   "metadata": {},
   "source": [
    "# The household resilience model\n",
    "In this tutorial we describe how data on household income is connected to the model and how agents (currently households and government) interact. The tutorial is organized as follows:\n",
    "1. Linking FIES to HHRM - creating the household agents\n",
    "2. Set up for the household government interaction and the predisaster situation\n",
    "3. Get a shock\n",
    "4. Recovery"
   ]
  },
  {
   "cell_type": "markdown",
   "metadata": {},
   "source": [
    "## 1. Linking FIES to HHRM\n",
    "\n",
    "The goal is to create household agents from the Family Income and Expenditure Surveys (FIES), therefore the necessary information needs to be extracted from the dataset.\n",
    "The datasets provided in the FIES usually covers much more information than needed in this model. The first challenge for the user is thus to extract the data that is really needed. In its current version the model assumes that a dataframe containing all households in the rows and all relevant parameters and variables in the columns. We here describe exactly which parameters and variables are needed and how they are then fed into the model. The required class that handles the data extraction is HHRegister that provides a list with Household(HH) objects and meta information on all households included.\n",
    "To generate a HHRegister we only need to provide i) the file path and ii) the names of the columns for parameters and variables and link them to the exact input parameter in the constructor.\n",
    "\n",
    "#### Table 1:\n",
    "\n",
    "|Parameter|Name in testfile|Type|Description|formula|Identifier in HH-Class|\n",
    "|---|---|---|---|---|---|\n",
    "|id_col|HHID|int|An identifier e.g. the Household ID| - |hhid|\n",
    "|weight_col|weight|float|Representative fraction of full popuation covered by HH| $w_{h}$ |weight|\n",
    "|vul_col|vul|float|vulnerability factor of the HH [0-1]| $v_{h}$ |vul|\n",
    "|income_col|income|float|Entire annual household income| $i_{h}$ |income_0|\n",
    "|income_sp|income_sp|float|Entire annual household income from social transfers| $i_{sp}$ |income_sp|"
   ]
  },
  {
   "cell_type": "code",
   "execution_count": 13,
   "metadata": {},
   "outputs": [
    {
     "data": {
      "text/html": [
       "<div>\n",
       "<style scoped>\n",
       "    .dataframe tbody tr th:only-of-type {\n",
       "        vertical-align: middle;\n",
       "    }\n",
       "\n",
       "    .dataframe tbody tr th {\n",
       "        vertical-align: top;\n",
       "    }\n",
       "\n",
       "    .dataframe thead th {\n",
       "        text-align: right;\n",
       "    }\n",
       "</style>\n",
       "<table border=\"1\" class=\"dataframe\">\n",
       "  <thead>\n",
       "    <tr style=\"text-align: right;\">\n",
       "      <th></th>\n",
       "      <th>HHID</th>\n",
       "      <th>weight</th>\n",
       "      <th>vul</th>\n",
       "      <th>income</th>\n",
       "      <th>income_sp</th>\n",
       "    </tr>\n",
       "  </thead>\n",
       "  <tbody>\n",
       "    <tr>\n",
       "      <th>0</th>\n",
       "      <td>0</td>\n",
       "      <td>1</td>\n",
       "      <td>0.6</td>\n",
       "      <td>30000</td>\n",
       "      <td>0</td>\n",
       "    </tr>\n",
       "    <tr>\n",
       "      <th>1</th>\n",
       "      <td>1</td>\n",
       "      <td>1</td>\n",
       "      <td>0.4</td>\n",
       "      <td>40000</td>\n",
       "      <td>5000</td>\n",
       "    </tr>\n",
       "    <tr>\n",
       "      <th>2</th>\n",
       "      <td>2</td>\n",
       "      <td>1</td>\n",
       "      <td>0.4</td>\n",
       "      <td>35000</td>\n",
       "      <td>5000</td>\n",
       "    </tr>\n",
       "    <tr>\n",
       "      <th>3</th>\n",
       "      <td>3</td>\n",
       "      <td>1</td>\n",
       "      <td>0.2</td>\n",
       "      <td>50000</td>\n",
       "      <td>0</td>\n",
       "    </tr>\n",
       "    <tr>\n",
       "      <th>4</th>\n",
       "      <td>4</td>\n",
       "      <td>1</td>\n",
       "      <td>0.2</td>\n",
       "      <td>50000</td>\n",
       "      <td>0</td>\n",
       "    </tr>\n",
       "    <tr>\n",
       "      <th>5</th>\n",
       "      <td>5</td>\n",
       "      <td>1</td>\n",
       "      <td>0.7</td>\n",
       "      <td>20000</td>\n",
       "      <td>10000</td>\n",
       "    </tr>\n",
       "    <tr>\n",
       "      <th>6</th>\n",
       "      <td>6</td>\n",
       "      <td>1</td>\n",
       "      <td>0.7</td>\n",
       "      <td>20000</td>\n",
       "      <td>15000</td>\n",
       "    </tr>\n",
       "    <tr>\n",
       "      <th>7</th>\n",
       "      <td>7</td>\n",
       "      <td>1</td>\n",
       "      <td>0.1</td>\n",
       "      <td>48000</td>\n",
       "      <td>1000</td>\n",
       "    </tr>\n",
       "    <tr>\n",
       "      <th>8</th>\n",
       "      <td>8</td>\n",
       "      <td>1</td>\n",
       "      <td>0.1</td>\n",
       "      <td>60000</td>\n",
       "      <td>0</td>\n",
       "    </tr>\n",
       "    <tr>\n",
       "      <th>9</th>\n",
       "      <td>9</td>\n",
       "      <td>1</td>\n",
       "      <td>0.1</td>\n",
       "      <td>50000</td>\n",
       "      <td>0</td>\n",
       "    </tr>\n",
       "  </tbody>\n",
       "</table>\n",
       "</div>"
      ],
      "text/plain": [
       "   HHID  weight  vul  income  income_sp\n",
       "0     0       1  0.6   30000          0\n",
       "1     1       1  0.4   40000       5000\n",
       "2     2       1  0.4   35000       5000\n",
       "3     3       1  0.2   50000          0\n",
       "4     4       1  0.2   50000          0\n",
       "5     5       1  0.7   20000      10000\n",
       "6     6       1  0.7   20000      15000\n",
       "7     7       1  0.1   48000       1000\n",
       "8     8       1  0.1   60000          0\n",
       "9     9       1  0.1   50000          0"
      ]
     },
     "execution_count": 13,
     "metadata": {},
     "output_type": "execute_result"
    }
   ],
   "source": [
    "## we will first have a look at the test input file\n",
    "import sys\n",
    "sys.path.append('/home/insauer/projects/WB_model/hhwb')\n",
    "import pandas as pd\n",
    "\n",
    "dummy_fies = pd.read_csv('/home/insauer/projects/WB_model/hhwb/data/test_data.csv')\n",
    "dummy_fies"
   ]
  },
  {
   "cell_type": "code",
   "execution_count": 14,
   "metadata": {},
   "outputs": [
    {
     "data": {
      "text/plain": [
       "10"
      ]
     },
     "execution_count": 14,
     "metadata": {},
     "output_type": "execute_result"
    }
   ],
   "source": [
    "## define a HHRegister\n",
    "from hhwb.agents.hh_register import HHRegister\n",
    "\n",
    "hh_reg = HHRegister()\n",
    "\n",
    "## create HH agents in the register\n",
    "hh_reg.set_from_csv(path='/data/test_data.csv', id_col='HHID', weight_col='weight', vul_col='vul',\n",
    "                 income_col='income', income_sp='income_sp')\n",
    "## get number of registered households \n",
    "hh_reg.n_hh"
   ]
  },
  {
   "cell_type": "code",
   "execution_count": 15,
   "metadata": {},
   "outputs": [],
   "source": [
    "## get a list with all the households\n",
    "all_hhs = hh_reg.hh_list"
   ]
  },
  {
   "cell_type": "markdown",
   "metadata": {},
   "source": [
    "After the initial registration each household agent contains all the attributes taken directly from the household, they can be extracted from the Household object using the identifiers given in Table 1:"
   ]
  },
  {
   "cell_type": "code",
   "execution_count": 16,
   "metadata": {},
   "outputs": [
    {
     "name": "stdout",
     "output_type": "stream",
     "text": [
      "Household weight of HH 0: 1.0\n",
      "Initial total income of HH 1: 40000.0\n",
      "Initial income from social programms HH 3: 0.0\n",
      "Initial consumption of HH 4: 50000.0\n"
     ]
    }
   ],
   "source": [
    "print('Household weight of HH 0: ' + str(all_hhs[0].weight))\n",
    "print('Initial total income of HH 1: ' + str(all_hhs[1].income_0))\n",
    "print('Initial income from social programms HH 3: ' + str(all_hhs[3].income_sp))\n",
    "print('Initial consumption of HH 4: ' + str(all_hhs[4].consum_0))"
   ]
  },
  {
   "cell_type": "markdown",
   "metadata": {},
   "source": [
    "In the current model version initial consumtion equals initial income."
   ]
  },
  {
   "cell_type": "markdown",
   "metadata": {},
   "source": [
    "## 2. Set up for the household government interaction and the predisaster situation"
   ]
  },
  {
   "cell_type": "markdown",
   "metadata": {},
   "source": [
    "In the next step, all the households that have been registered are assigned to the government and on basis of all incomes and all the social transfer programs a flat income tax $\\delta_{sp}^{tax}$ is calculated. Knowing the income tax  $\\delta_{sp}^{tax}$, the initial effective capital stock $k_{eff}$ is then estimated from income $i_{h}$, tax $\\delta_{sp}^{tax}$ and productivity of capital $\\Pi_{k}$. This happens all by running the method Government.set_tax_rate().\n",
    "\n",
    "The idea is to also adapt tax rates or include dynamic disaster support."
   ]
  },
  {
   "cell_type": "code",
   "execution_count": 17,
   "metadata": {},
   "outputs": [
    {
     "name": "stdout",
     "output_type": "stream",
     "text": [
      "\n",
      " Found the Minimum!\n",
      " lambda =  0.12999999999999998 --> integ =  336.23934354565745\n",
      "lambda =  0.13999999999999999 --> integ =  -94.59446803500717 \n",
      "\n",
      "\n",
      " Found the Minimum!\n",
      " lambda =  0.2800000000000001 --> integ =  55.271256215966744\n",
      "lambda =  0.2900000000000001 --> integ =  -15.75708954456291 \n",
      "\n",
      "\n",
      " Found the Minimum!\n",
      " lambda =  0.2800000000000001 --> integ =  55.271256215966744\n",
      "lambda =  0.2900000000000001 --> integ =  -15.75708954456291 \n",
      "\n",
      "\n",
      " Found the Minimum!\n",
      " lambda =  0.6000000000000003 --> integ =  6.619283985482457\n",
      "lambda =  0.6100000000000003 --> integ =  -1.4710329502478228 \n",
      "\n",
      "\n",
      " Found the Minimum!\n",
      " lambda =  0.6000000000000003 --> integ =  6.619283985482457\n",
      "lambda =  0.6100000000000003 --> integ =  -1.4710329502478228 \n",
      "\n",
      "\n",
      " Found the Minimum!\n",
      " lambda =  0.08 --> integ =  1045.0320758057976\n",
      "lambda =  0.09 --> integ =  -89.86609699365307 \n",
      "\n",
      "\n",
      " Found the Minimum!\n",
      " lambda =  0.08 --> integ =  1045.0320758057976\n",
      "lambda =  0.09 --> integ =  -89.86609699365307 \n",
      "\n",
      "\n",
      " Found the Minimum!\n",
      " lambda =  1.0300000000000007 --> integ =  0.5981158578438386\n",
      "lambda =  1.0400000000000007 --> integ =  -0.9393648069566518 \n",
      "\n",
      "\n",
      " Found the Minimum!\n",
      " lambda =  1.0300000000000007 --> integ =  0.5981158578438386\n",
      "lambda =  1.0400000000000007 --> integ =  -0.9393648069566518 \n",
      "\n",
      "\n",
      " Found the Minimum!\n",
      " lambda =  1.0300000000000007 --> integ =  0.5981158578438386\n",
      "lambda =  1.0400000000000007 --> integ =  -0.9393648069566518 \n",
      "\n",
      "Tax rate: 0.08933002481389578\n",
      "Total expenditure on social programs: 36000.0\n",
      "Total national capital stock: 36000.0\n"
     ]
    }
   ],
   "source": [
    "## set up a goverment\n",
    "from hhwb.agents.government import Government\n",
    "## select information\n",
    "gov = Government()\n",
    "gov.set_tax_rate(all_hhs)\n",
    "print('Tax rate: ' +str(gov.tax_rate))\n",
    "print('Total expenditure on social programs: ' + str(gov.sp_cost))\n",
    "print('Total national capital stock: ' + str(gov.sp_cost))"
   ]
  },
  {
   "cell_type": "markdown",
   "metadata": {},
   "source": [
    "The households have been now updated by their initial capital stock and we can have a lookinto this:"
   ]
  },
  {
   "cell_type": "code",
   "execution_count": 18,
   "metadata": {},
   "outputs": [
    {
     "name": "stdout",
     "output_type": "stream",
     "text": [
      "Capital stock of HH 0: 99826.60391379737\n",
      "Capital stock of HH 1: 116464.3712327636\n",
      "Capital stock of HH 2: 99826.60391379737\n",
      "Capital stock of HH 3: 166377.67318966228\n",
      "Capital stock of HH 4: 166377.67318966228\n",
      "Capital stock of HH 5: 33275.534637932455\n",
      "Capital stock of HH 6: 16637.767318966227\n",
      "Capital stock of HH 7: 156395.01279828255\n",
      "Capital stock of HH 8: 199653.20782759474\n",
      "Capital stock of HH 9: 166377.67318966228\n"
     ]
    }
   ],
   "source": [
    "for hh in all_hhs:\n",
    "    print('Capital stock of HH ' + str(int(hh.hhid))+': '+str(hh.k_eff_0))"
   ]
  },
  {
   "cell_type": "markdown",
   "metadata": {},
   "source": [
    "The predisaster situation is now almost completed. The households get now prepared by the government for a shock, so that all know their optimal recovery rate $\\lambda$:"
   ]
  },
  {
   "cell_type": "code",
   "execution_count": 19,
   "metadata": {},
   "outputs": [
    {
     "name": "stdout",
     "output_type": "stream",
     "text": [
      "Lambda HH 1: 0.2850000000000001 per year\n",
      "Tau HH 1: 10.511341310715753 years\n"
     ]
    }
   ],
   "source": [
    "print('Lambda HH 1: '+ str(all_hhs[1].lmbda) + ' per year')\n",
    "print('Tau HH 1: '+ str(all_hhs[1].tau) + ' years')\n",
    "all_hhs[5].plot_reco_trajec()\n",
    "all_hhs[1].plot_reco_trajec()"
   ]
  },
  {
   "cell_type": "markdown",
   "metadata": {},
   "source": [
    "## 3. Get a shock"
   ]
  },
  {
   "cell_type": "code",
   "execution_count": 20,
   "metadata": {},
   "outputs": [
    {
     "data": {
      "text/plain": [
       "[<hhwb.agents.household.Household at 0x7f8704044100>,\n",
       " <hhwb.agents.household.Household at 0x7f86fc3274c0>,\n",
       " <hhwb.agents.household.Household at 0x7f86fc327400>,\n",
       " <hhwb.agents.household.Household at 0x7f87040449d0>]"
      ]
     },
     "execution_count": 20,
     "metadata": {},
     "output_type": "execute_result"
    }
   ],
   "source": [
    "from hhwb.agents.shock import Shock\n",
    "fld = Shock()\n",
    "fld.set_random_shock(all_hhs)\n",
    "fld.aff_hh"
   ]
  },
  {
   "cell_type": "code",
   "execution_count": 21,
   "metadata": {},
   "outputs": [
    {
     "data": {
      "text/plain": [
       "[<hhwb.agents.household.Household at 0x7f86fc327850>,\n",
       " <hhwb.agents.household.Household at 0x7f86fc327430>,\n",
       " <hhwb.agents.household.Household at 0x7f86fc3275b0>,\n",
       " <hhwb.agents.household.Household at 0x7f86fc327760>,\n",
       " <hhwb.agents.household.Household at 0x7f86fc327eb0>,\n",
       " <hhwb.agents.household.Household at 0x7f87040448e0>]"
      ]
     },
     "execution_count": 21,
     "metadata": {},
     "output_type": "execute_result"
    }
   ],
   "source": [
    "fld.unaff_hh"
   ]
  },
  {
   "cell_type": "code",
   "execution_count": 23,
   "metadata": {},
   "outputs": [
    {
     "name": "stdout",
     "output_type": "stream",
     "text": [
      "Using matplotlib backend: Qt5Agg\n"
     ]
    }
   ],
   "source": [
    "%matplotlib auto\n",
    "fld.shock(gov, all_hhs)"
   ]
  },
  {
   "cell_type": "code",
   "execution_count": null,
   "metadata": {},
   "outputs": [],
   "source": [
    "import matplotlib.pyplot as plt\n",
    "plt.plot(fld.aff_hh[0].cons_reco)\n",
    "plt.plot(fld.aff_hh[1].cons_reco)\n",
    "plt.plot(fld.aff_hh[2].cons_reco)\n",
    "plt.plot(fld.unaff_hh[0].cons_reco)\n",
    "plt.plot(fld.unaff_hh[2].cons_reco)\n",
    "plt.ylabel('consumption loss USD')\n",
    "plt.xlabel('weeks')\n",
    "plt.title('Absolute consumption losses')"
   ]
  }
 ],
 "metadata": {
  "kernelspec": {
   "display_name": "Python 3",
   "language": "python",
   "name": "python3"
  },
  "language_info": {
   "codemirror_mode": {
    "name": "ipython",
    "version": 3
   },
   "file_extension": ".py",
   "mimetype": "text/x-python",
   "name": "python",
   "nbconvert_exporter": "python",
   "pygments_lexer": "ipython3",
   "version": "3.7.7"
  }
 },
 "nbformat": 4,
 "nbformat_minor": 4
}
